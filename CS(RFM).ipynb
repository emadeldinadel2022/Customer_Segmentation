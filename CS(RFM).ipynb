{
 "cells": [
  {
   "cell_type": "code",
   "execution_count": 15,
   "metadata": {},
   "outputs": [],
   "source": [
    "import pandas as pd\n",
    "import numpy as np\n",
    "import glob\n",
    "import os"
   ]
  },
  {
   "cell_type": "code",
   "execution_count": 28,
   "metadata": {},
   "outputs": [
    {
     "name": "stdout",
     "output_type": "stream",
     "text": [
      ".\\customer segmentation(rfm)\\customer_segmentation_100k.csv\n"
     ]
    },
    {
     "name": "stderr",
     "output_type": "stream",
     "text": [
      "C:\\Users\\Friends\\AppData\\Local\\Temp\\ipykernel_8892\\2125400975.py:5: FutureWarning: The frame.append method is deprecated and will be removed from pandas in a future version. Use pandas.concat instead.\n",
      "  all_data = all_data.append(df,ignore_index=True)\n"
     ]
    },
    {
     "name": "stdout",
     "output_type": "stream",
     "text": [
      ".\\customer segmentation(rfm)\\customer_segmentation_10k.csv\n"
     ]
    },
    {
     "name": "stderr",
     "output_type": "stream",
     "text": [
      "C:\\Users\\Friends\\AppData\\Local\\Temp\\ipykernel_8892\\2125400975.py:5: FutureWarning: The frame.append method is deprecated and will be removed from pandas in a future version. Use pandas.concat instead.\n",
      "  all_data = all_data.append(df,ignore_index=True)\n"
     ]
    },
    {
     "name": "stdout",
     "output_type": "stream",
     "text": [
      ".\\customer segmentation(rfm)\\customer_segmentation_500k.csv\n"
     ]
    },
    {
     "name": "stderr",
     "output_type": "stream",
     "text": [
      "C:\\Users\\Friends\\AppData\\Local\\Temp\\ipykernel_8892\\2125400975.py:5: FutureWarning: The frame.append method is deprecated and will be removed from pandas in a future version. Use pandas.concat instead.\n",
      "  all_data = all_data.append(df,ignore_index=True)\n"
     ]
    }
   ],
   "source": [
    "all_data = pd.DataFrame()\n",
    "for f in glob.glob(\".\\customer segmentation(rfm)\\*.csv\"):\n",
    "    print(f)\n",
    "    df = pd.read_csv(f)\n",
    "    all_data = all_data.append(df,ignore_index=True)"
   ]
  },
  {
   "cell_type": "code",
   "execution_count": 31,
   "metadata": {},
   "outputs": [
    {
     "data": {
      "text/html": [
       "<div>\n",
       "<style scoped>\n",
       "    .dataframe tbody tr th:only-of-type {\n",
       "        vertical-align: middle;\n",
       "    }\n",
       "\n",
       "    .dataframe tbody tr th {\n",
       "        vertical-align: top;\n",
       "    }\n",
       "\n",
       "    .dataframe thead th {\n",
       "        text-align: right;\n",
       "    }\n",
       "</style>\n",
       "<table border=\"1\" class=\"dataframe\">\n",
       "  <thead>\n",
       "    <tr style=\"text-align: right;\">\n",
       "      <th></th>\n",
       "      <th>customer_id</th>\n",
       "      <th>qtt_order</th>\n",
       "      <th>total_spent</th>\n",
       "      <th>last_order</th>\n",
       "    </tr>\n",
       "  </thead>\n",
       "  <tbody>\n",
       "    <tr>\n",
       "      <th>0</th>\n",
       "      <td>0</td>\n",
       "      <td>41</td>\n",
       "      <td>321785.93</td>\n",
       "      <td>2022-08-04 01:00:00</td>\n",
       "    </tr>\n",
       "    <tr>\n",
       "      <th>1</th>\n",
       "      <td>1</td>\n",
       "      <td>126</td>\n",
       "      <td>185018.15</td>\n",
       "      <td>2022-09-17 11:00:00</td>\n",
       "    </tr>\n",
       "    <tr>\n",
       "      <th>2</th>\n",
       "      <td>2</td>\n",
       "      <td>3</td>\n",
       "      <td>357434.58</td>\n",
       "      <td>2022-04-01 14:00:00</td>\n",
       "    </tr>\n",
       "    <tr>\n",
       "      <th>3</th>\n",
       "      <td>3</td>\n",
       "      <td>74</td>\n",
       "      <td>2828.39</td>\n",
       "      <td>2022-02-15 18:00:00</td>\n",
       "    </tr>\n",
       "    <tr>\n",
       "      <th>4</th>\n",
       "      <td>4</td>\n",
       "      <td>243</td>\n",
       "      <td>76092.70</td>\n",
       "      <td>2022-01-27 04:00:00</td>\n",
       "    </tr>\n",
       "    <tr>\n",
       "      <th>...</th>\n",
       "      <td>...</td>\n",
       "      <td>...</td>\n",
       "      <td>...</td>\n",
       "      <td>...</td>\n",
       "    </tr>\n",
       "    <tr>\n",
       "      <th>609995</th>\n",
       "      <td>499995</td>\n",
       "      <td>482</td>\n",
       "      <td>253253.34</td>\n",
       "      <td>2022-09-25 22:00:00</td>\n",
       "    </tr>\n",
       "    <tr>\n",
       "      <th>609996</th>\n",
       "      <td>499996</td>\n",
       "      <td>44</td>\n",
       "      <td>122348.74</td>\n",
       "      <td>2022-07-09 01:00:00</td>\n",
       "    </tr>\n",
       "    <tr>\n",
       "      <th>609997</th>\n",
       "      <td>499997</td>\n",
       "      <td>83</td>\n",
       "      <td>46623.55</td>\n",
       "      <td>2022-07-15 16:00:00</td>\n",
       "    </tr>\n",
       "    <tr>\n",
       "      <th>609998</th>\n",
       "      <td>499998</td>\n",
       "      <td>49</td>\n",
       "      <td>140711.18</td>\n",
       "      <td>2022-10-01 08:00:00</td>\n",
       "    </tr>\n",
       "    <tr>\n",
       "      <th>609999</th>\n",
       "      <td>499999</td>\n",
       "      <td>20</td>\n",
       "      <td>158831.36</td>\n",
       "      <td>2022-05-16 01:00:00</td>\n",
       "    </tr>\n",
       "  </tbody>\n",
       "</table>\n",
       "<p>610000 rows × 4 columns</p>\n",
       "</div>"
      ],
      "text/plain": [
       "        customer_id  qtt_order  total_spent           last_order\n",
       "0                 0         41    321785.93  2022-08-04 01:00:00\n",
       "1                 1        126    185018.15  2022-09-17 11:00:00\n",
       "2                 2          3    357434.58  2022-04-01 14:00:00\n",
       "3                 3         74      2828.39  2022-02-15 18:00:00\n",
       "4                 4        243     76092.70  2022-01-27 04:00:00\n",
       "...             ...        ...          ...                  ...\n",
       "609995       499995        482    253253.34  2022-09-25 22:00:00\n",
       "609996       499996         44    122348.74  2022-07-09 01:00:00\n",
       "609997       499997         83     46623.55  2022-07-15 16:00:00\n",
       "609998       499998         49    140711.18  2022-10-01 08:00:00\n",
       "609999       499999         20    158831.36  2022-05-16 01:00:00\n",
       "\n",
       "[610000 rows x 4 columns]"
      ]
     },
     "execution_count": 31,
     "metadata": {},
     "output_type": "execute_result"
    }
   ],
   "source": [
    "all_data"
   ]
  },
  {
   "cell_type": "code",
   "execution_count": 33,
   "metadata": {},
   "outputs": [
    {
     "name": "stdout",
     "output_type": "stream",
     "text": [
      "------------------------------- SHAPE --------------------------------\n",
      "Rows: 500000\n",
      "Columns: 4\n",
      "Columns names : ['customer_id', 'qtt_order', 'total_spent', 'last_order']\n",
      "------------------------------- TYPES --------------------------------\n",
      "customer_id      int64\n",
      "qtt_order        int64\n",
      "total_spent    float64\n",
      "last_order      object\n",
      "dtype: object\n",
      "--------------------------- MISSING VALUES ---------------------------\n",
      "customer_id    0\n",
      "qtt_order      0\n",
      "total_spent    0\n",
      "last_order     0\n",
      "dtype: int64\n",
      "------------------------- DUPLICATED VALUES --------------------------\n",
      "0\n",
      "------------------------------ DESCRIBE ------------------------------\n",
      "                count           mean            std     min        25%  \\\n",
      "customer_id  500000.0  249999.500000  144337.711635    0.00  124999.75   \n",
      "qtt_order    500000.0     103.669552     135.021089    0.00      25.00   \n",
      "total_spent  500000.0  229051.462125  257414.814877  460.95   63821.45   \n",
      "\n",
      "                   50%         75%         max  \n",
      "customer_id  249999.50  374999.250   499999.00  \n",
      "qtt_order        55.00     120.000     1506.00  \n",
      "total_spent  138864.76  293112.375  2447032.73  \n"
     ]
    }
   ],
   "source": [
    "def check_df(dataframe, head=5):\n",
    "    print(\" SHAPE \".center(70,'-'))\n",
    "    print('Rows: {}'.format(dataframe.shape[0]))\n",
    "    print('Columns: {}'.format(dataframe.shape[1]))\n",
    "    print(\"Columns names : {}\".format(list(dataframe.columns)))\n",
    "    print(\" TYPES \".center(70,'-'))\n",
    "    print(dataframe.dtypes)\n",
    "    print(\" MISSING VALUES \".center(70,'-'))\n",
    "    print(dataframe.isnull().sum())\n",
    "    print(\" DUPLICATED VALUES \".center(70,'-'))\n",
    "    print(dataframe.duplicated().sum())\n",
    "    print(\" DESCRIBE \".center(70,'-'))\n",
    "    print(dataframe.describe().T)\n",
    "    \n",
    "check_df(df)"
   ]
  },
  {
   "cell_type": "code",
   "execution_count": 41,
   "metadata": {},
   "outputs": [],
   "source": [
    "all_data['last_order'] = all_data['last_order'].str.split(' ',expand = True)[0]\n",
    "all_data['last_order'] = pd.to_datetime(all_data['last_order'])\n"
   ]
  },
  {
   "cell_type": "code",
   "execution_count": 42,
   "metadata": {},
   "outputs": [
    {
     "data": {
      "text/plain": [
       "dtype('<M8[ns]')"
      ]
     },
     "execution_count": 42,
     "metadata": {},
     "output_type": "execute_result"
    }
   ],
   "source": [
    "all_data['last_order'].dtype"
   ]
  },
  {
   "cell_type": "code",
   "execution_count": 44,
   "metadata": {},
   "outputs": [
    {
     "data": {
      "text/plain": [
       "0        2022-08-04\n",
       "1        2022-09-17\n",
       "2        2022-04-01\n",
       "3        2022-02-15\n",
       "4        2022-01-27\n",
       "            ...    \n",
       "609995   2022-09-25\n",
       "609996   2022-07-09\n",
       "609997   2022-07-15\n",
       "609998   2022-10-01\n",
       "609999   2022-05-16\n",
       "Name: last_order, Length: 610000, dtype: datetime64[ns]"
      ]
     },
     "execution_count": 44,
     "metadata": {},
     "output_type": "execute_result"
    }
   ],
   "source": [
    "all_data['last_order']"
   ]
  },
  {
   "cell_type": "code",
   "execution_count": null,
   "metadata": {},
   "outputs": [],
   "source": []
  }
 ],
 "metadata": {
  "kernelspec": {
   "display_name": "Python 3",
   "language": "python",
   "name": "python3"
  },
  "language_info": {
   "codemirror_mode": {
    "name": "ipython",
    "version": 3
   },
   "file_extension": ".py",
   "mimetype": "text/x-python",
   "name": "python",
   "nbconvert_exporter": "python",
   "pygments_lexer": "ipython3",
   "version": "3.10.5"
  },
  "orig_nbformat": 4
 },
 "nbformat": 4,
 "nbformat_minor": 2
}
